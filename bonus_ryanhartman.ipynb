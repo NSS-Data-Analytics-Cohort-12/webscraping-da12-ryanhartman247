{
 "cells": [
  {
   "cell_type": "markdown",
   "id": "2b6fda31-ac41-482a-9053-4b018306bb6a",
   "metadata": {},
   "source": [
    "#### 1. Navigate to https://www.billboard.com/charts/hot-100/. Using BeautifulSoup, extract out the This Week, artist, song, Last Week, Peak Position, and Weeks on Chart values into a pandas DataFrame. Hint: The HTML for the number one ranked song is slightly different from that of the rest of the songs."
   ]
  },
  {
   "cell_type": "markdown",
   "id": "53e063dd-401d-48c9-adac-e9614bee806d",
   "metadata": {},
   "source": [
    "#### Import modules and load BS"
   ]
  },
  {
   "cell_type": "code",
   "execution_count": 4,
   "id": "61420c1d-7397-45c6-b6f4-b738209ec5db",
   "metadata": {},
   "outputs": [],
   "source": [
    "import requests\n",
    "from bs4 import BeautifulSoup as BS\n",
    "import pandas as pd"
   ]
  },
  {
   "cell_type": "code",
   "execution_count": 8,
   "id": "e24157a2-610d-43c8-88e8-9399b12b598f",
   "metadata": {},
   "outputs": [],
   "source": [
    "response = requests.get('https://www.billboard.com/charts/hot-100/')"
   ]
  },
  {
   "cell_type": "code",
   "execution_count": 12,
   "id": "6d93d175-a8a9-4815-96da-31351e19d7ab",
   "metadata": {},
   "outputs": [
    {
     "data": {
      "text/plain": [
       "200"
      ]
     },
     "execution_count": 12,
     "metadata": {},
     "output_type": "execute_result"
    }
   ],
   "source": [
    "response.status_code"
   ]
  },
  {
   "cell_type": "code",
   "execution_count": 18,
   "id": "e4bd0215-d60b-4434-bbae-5c2d26303a41",
   "metadata": {},
   "outputs": [],
   "source": [
    "soup = BS(response.text)\n",
    "#soup"
   ]
  },
  {
   "cell_type": "markdown",
   "id": "598f53f6-5173-4384-aa02-96c4d4f8c02e",
   "metadata": {},
   "source": [
    "#### Create artist_list"
   ]
  },
  {
   "cell_type": "code",
   "execution_count": 142,
   "id": "abc5011b-88fb-446f-a264-08d832a805cf",
   "metadata": {},
   "outputs": [
    {
     "data": {
      "text/plain": [
       "'Shaboozey'"
      ]
     },
     "execution_count": 142,
     "metadata": {},
     "output_type": "execute_result"
    }
   ],
   "source": [
    "# this isn't replicable\n",
    "soup.findAll('li', class_='o-chart-results-list__item')[3].find('span').text.strip()"
   ]
  },
  {
   "cell_type": "code",
   "execution_count": 118,
   "id": "3cae70b6-6b02-4753-8865-7e714aec30b7",
   "metadata": {},
   "outputs": [
    {
     "data": {
      "text/plain": [
       "'Shaboozey'"
      ]
     },
     "execution_count": 118,
     "metadata": {},
     "output_type": "execute_result"
    }
   ],
   "source": [
    "soup.findAll('ul', class_='o-chart-results-list-row')[0].findAll('li', class_='o-chart-results-list__item')[3].find('span').text.strip()"
   ]
  },
  {
   "cell_type": "code",
   "execution_count": 120,
   "id": "0432880d-6c1b-4253-b573-7545496f9a58",
   "metadata": {},
   "outputs": [
    {
     "data": {
      "text/plain": [
       "'Post Malone Featuring Morgan Wallen'"
      ]
     },
     "execution_count": 120,
     "metadata": {},
     "output_type": "execute_result"
    }
   ],
   "source": [
    "soup.findAll('ul', class_='o-chart-results-list-row')[1].findAll('li', class_='o-chart-results-list__item')[3].find('span').text.strip()"
   ]
  },
  {
   "cell_type": "code",
   "execution_count": 122,
   "id": "d3f76dce-ebd6-45a2-9040-4eca48a37421",
   "metadata": {},
   "outputs": [
    {
     "data": {
      "text/plain": [
       "'Lady Gaga & Bruno Mars'"
      ]
     },
     "execution_count": 122,
     "metadata": {},
     "output_type": "execute_result"
    }
   ],
   "source": [
    "soup.findAll('ul', class_='o-chart-results-list-row')[2].findAll('li', class_='o-chart-results-list__item')[3].find('span').text.strip()"
   ]
  },
  {
   "cell_type": "code",
   "execution_count": 136,
   "id": "0eb28142-5eb9-4192-88cf-eef05e77a61d",
   "metadata": {},
   "outputs": [],
   "source": [
    "artist_list = []\n",
    "for n in range(0, 100): \n",
    "    artist = soup.findAll('ul', class_='o-chart-results-list-row')[n].findAll('li', class_='o-chart-results-list__item')[3].find('span').text.strip()\n",
    "    artist_list.append(artist)"
   ]
  },
  {
   "cell_type": "code",
   "execution_count": 140,
   "id": "42babec6-fe2a-4c69-8efc-488d3a019c45",
   "metadata": {},
   "outputs": [
    {
     "data": {
      "text/plain": [
       "['Shaboozey',\n",
       " 'Post Malone Featuring Morgan Wallen',\n",
       " 'Lady Gaga & Bruno Mars',\n",
       " 'Kendrick Lamar',\n",
       " 'Billie Eilish',\n",
       " 'Chappell Roan',\n",
       " 'Sabrina Carpenter',\n",
       " 'Tommy Richman',\n",
       " 'Sabrina Carpenter',\n",
       " 'Teddy Swims']"
      ]
     },
     "execution_count": 140,
     "metadata": {},
     "output_type": "execute_result"
    }
   ],
   "source": [
    "artist_list[0:10]"
   ]
  },
  {
   "cell_type": "markdown",
   "id": "a0bac6c0-c10f-451e-aae4-8def29b2f089",
   "metadata": {},
   "source": [
    "#### Create song_list"
   ]
  },
  {
   "cell_type": "code",
   "execution_count": 164,
   "id": "0a008d76-3e0c-46dd-be09-c7d5b61fa4ab",
   "metadata": {},
   "outputs": [
    {
     "data": {
      "text/plain": [
       "'A Bar Song (Tipsy)'"
      ]
     },
     "execution_count": 164,
     "metadata": {},
     "output_type": "execute_result"
    }
   ],
   "source": [
    "soup.findAll('ul', class_='o-chart-results-list-row')[0].findAll('li', class_='o-chart-results-list__item')[3].find('h3').text.strip()"
   ]
  },
  {
   "cell_type": "code",
   "execution_count": 168,
   "id": "849d5aba-ffe7-463e-90ab-df0226ceb740",
   "metadata": {},
   "outputs": [],
   "source": [
    "song_list = []\n",
    "for n in range(0, 100):\n",
    "    song = soup.findAll('ul', class_='o-chart-results-list-row')[n].findAll('li', class_='o-chart-results-list__item')[3].find('h3').text.strip()\n",
    "    song_list.append(song)"
   ]
  },
  {
   "cell_type": "code",
   "execution_count": 170,
   "id": "cb8b69c0-a649-4b18-90f2-e926204d8946",
   "metadata": {},
   "outputs": [
    {
     "data": {
      "text/plain": [
       "['A Bar Song (Tipsy)',\n",
       " 'I Had Some Help',\n",
       " 'Die With A Smile',\n",
       " 'Not Like Us',\n",
       " 'Birds Of A Feather',\n",
       " 'Good Luck, Babe!',\n",
       " 'Espresso',\n",
       " 'Million Dollar Baby',\n",
       " 'Please Please Please',\n",
       " 'Lose Control']"
      ]
     },
     "execution_count": 170,
     "metadata": {},
     "output_type": "execute_result"
    }
   ],
   "source": [
    "song_list[0:10]"
   ]
  },
  {
   "cell_type": "markdown",
   "id": "7c79aeb1-0a9d-468e-a221-c1d930dd67e9",
   "metadata": {},
   "source": [
    "#### Create last_week_list "
   ]
  },
  {
   "cell_type": "code",
   "execution_count": 228,
   "id": "2e54c36f-0e93-4177-af14-bde3525041e4",
   "metadata": {},
   "outputs": [
    {
     "data": {
      "text/plain": [
       "'4'"
      ]
     },
     "execution_count": 228,
     "metadata": {},
     "output_type": "execute_result"
    }
   ],
   "source": [
    "soup.findAll('ul', class_='o-chart-results-list-row')[6].findAll('li', class_='o-chart-results-list__item')[6].find('span').text.strip()"
   ]
  },
  {
   "cell_type": "code",
   "execution_count": 230,
   "id": "fd871994-14df-464b-92d2-7957b5a8e0a0",
   "metadata": {},
   "outputs": [],
   "source": [
    "last_week_list = []\n",
    "for n in range(0, 100):\n",
    "    last_week = soup.findAll('ul', class_='o-chart-results-list-row')[n].findAll('li', class_='o-chart-results-list__item')[6].find('span').text.strip()\n",
    "    last_week_list.append(last_week)"
   ]
  },
  {
   "cell_type": "code",
   "execution_count": 238,
   "id": "325fe3af-4d5c-4757-aaf4-36f8032e0944",
   "metadata": {},
   "outputs": [
    {
     "data": {
      "text/plain": [
       "['1',\n",
       " '2',\n",
       " '-',\n",
       " '3',\n",
       " '5',\n",
       " '7',\n",
       " '4',\n",
       " '6',\n",
       " '8',\n",
       " '9',\n",
       " '10',\n",
       " '11',\n",
       " '30',\n",
       " '12',\n",
       " '13']"
      ]
     },
     "execution_count": 238,
     "metadata": {},
     "output_type": "execute_result"
    }
   ],
   "source": [
    "last_week_list[0:15]"
   ]
  },
  {
   "cell_type": "markdown",
   "id": "0e28f6f2-8dc4-4ae1-9057-206eda7fb364",
   "metadata": {},
   "source": [
    "#### Create peak_position_list "
   ]
  },
  {
   "cell_type": "code",
   "execution_count": 249,
   "id": "c92cf3f8-daf2-409a-9e1b-560ddbe774f4",
   "metadata": {},
   "outputs": [
    {
     "data": {
      "text/plain": [
       "'1'"
      ]
     },
     "execution_count": 249,
     "metadata": {},
     "output_type": "execute_result"
    }
   ],
   "source": [
    "soup.findAll('ul', class_='o-chart-results-list-row')[3].findAll('li', class_='o-chart-results-list__item')[7].find('span').text.strip()"
   ]
  },
  {
   "cell_type": "code",
   "execution_count": 255,
   "id": "948dcb34-0c2d-4785-882c-763898db11d5",
   "metadata": {},
   "outputs": [],
   "source": [
    "peak_position_list = []\n",
    "for n in range(0, 100):\n",
    "    peak_position = soup.findAll('ul', class_='o-chart-results-list-row')[n].findAll('li', class_='o-chart-results-list__item')[7].find('span').text.strip()\n",
    "    peak_position_list.append(peak_position)"
   ]
  },
  {
   "cell_type": "code",
   "execution_count": 259,
   "id": "96037272-82a8-4f7c-a182-d1e08325ace6",
   "metadata": {},
   "outputs": [
    {
     "data": {
      "text/plain": [
       "['1', '1', '3', '1', '5', '6', '3', '2', '1', '1', '1', '2', '12', '12', '13']"
      ]
     },
     "execution_count": 259,
     "metadata": {},
     "output_type": "execute_result"
    }
   ],
   "source": [
    "peak_position_list[0:15]"
   ]
  },
  {
   "cell_type": "markdown",
   "id": "5644cea1-c5cd-42b0-8a06-5feaf1b8f12c",
   "metadata": {},
   "source": [
    "#### Create weeks_on_chart_list "
   ]
  },
  {
   "cell_type": "code",
   "execution_count": 269,
   "id": "102d7c76-b4ca-4a13-a3aa-eb013d0f7723",
   "metadata": {},
   "outputs": [
    {
     "data": {
      "text/plain": [
       "'1'"
      ]
     },
     "execution_count": 269,
     "metadata": {},
     "output_type": "execute_result"
    }
   ],
   "source": [
    "soup.findAll('ul', class_='o-chart-results-list-row')[2].findAll('li', class_='o-chart-results-list__item')[8].find('span').text.strip()"
   ]
  },
  {
   "cell_type": "code",
   "execution_count": 275,
   "id": "65beca7c-18cf-453a-bd37-7e9f7afc8a78",
   "metadata": {},
   "outputs": [],
   "source": [
    "weeks_on_chart_list = []\n",
    "for n in range(0, 100):\n",
    "    weeks_on_chart = soup.findAll('ul', class_='o-chart-results-list-row')[n].findAll('li', class_='o-chart-results-list__item')[8].find('span').text.strip()\n",
    "    weeks_on_chart_list.append(weeks_on_chart)"
   ]
  },
  {
   "cell_type": "code",
   "execution_count": 279,
   "id": "769b4761-f467-458b-b8ce-0d4d701a7c29",
   "metadata": {},
   "outputs": [
    {
     "data": {
      "text/plain": [
       "['19', '15', '1', '16', '14', '20', '19', '17', '11', '54']"
      ]
     },
     "execution_count": 279,
     "metadata": {},
     "output_type": "execute_result"
    }
   ],
   "source": [
    "weeks_on_chart_list[0:10]"
   ]
  },
  {
   "cell_type": "markdown",
   "id": "80479c60-ce32-475a-a439-757185c48c95",
   "metadata": {},
   "source": [
    "#### Create pd dataframe"
   ]
  },
  {
   "cell_type": "code",
   "execution_count": 282,
   "id": "f9434f0a-0f59-439f-8d76-eb7847c174e8",
   "metadata": {},
   "outputs": [
    {
     "data": {
      "text/html": [
       "<div>\n",
       "<style scoped>\n",
       "    .dataframe tbody tr th:only-of-type {\n",
       "        vertical-align: middle;\n",
       "    }\n",
       "\n",
       "    .dataframe tbody tr th {\n",
       "        vertical-align: top;\n",
       "    }\n",
       "\n",
       "    .dataframe thead th {\n",
       "        text-align: right;\n",
       "    }\n",
       "</style>\n",
       "<table border=\"1\" class=\"dataframe\">\n",
       "  <thead>\n",
       "    <tr style=\"text-align: right;\">\n",
       "      <th></th>\n",
       "      <th>artist</th>\n",
       "      <th>song</th>\n",
       "      <th>last week</th>\n",
       "      <th>peak position</th>\n",
       "      <th>weeks on chart</th>\n",
       "    </tr>\n",
       "  </thead>\n",
       "  <tbody>\n",
       "    <tr>\n",
       "      <th>0</th>\n",
       "      <td>Shaboozey</td>\n",
       "      <td>A Bar Song (Tipsy)</td>\n",
       "      <td>1</td>\n",
       "      <td>1</td>\n",
       "      <td>19</td>\n",
       "    </tr>\n",
       "    <tr>\n",
       "      <th>1</th>\n",
       "      <td>Post Malone Featuring Morgan Wallen</td>\n",
       "      <td>I Had Some Help</td>\n",
       "      <td>2</td>\n",
       "      <td>1</td>\n",
       "      <td>15</td>\n",
       "    </tr>\n",
       "    <tr>\n",
       "      <th>2</th>\n",
       "      <td>Lady Gaga &amp; Bruno Mars</td>\n",
       "      <td>Die With A Smile</td>\n",
       "      <td>-</td>\n",
       "      <td>3</td>\n",
       "      <td>1</td>\n",
       "    </tr>\n",
       "    <tr>\n",
       "      <th>3</th>\n",
       "      <td>Kendrick Lamar</td>\n",
       "      <td>Not Like Us</td>\n",
       "      <td>3</td>\n",
       "      <td>1</td>\n",
       "      <td>16</td>\n",
       "    </tr>\n",
       "    <tr>\n",
       "      <th>4</th>\n",
       "      <td>Billie Eilish</td>\n",
       "      <td>Birds Of A Feather</td>\n",
       "      <td>5</td>\n",
       "      <td>5</td>\n",
       "      <td>14</td>\n",
       "    </tr>\n",
       "  </tbody>\n",
       "</table>\n",
       "</div>"
      ],
      "text/plain": [
       "                                artist                song last week  \\\n",
       "0                            Shaboozey  A Bar Song (Tipsy)         1   \n",
       "1  Post Malone Featuring Morgan Wallen     I Had Some Help         2   \n",
       "2               Lady Gaga & Bruno Mars    Die With A Smile         -   \n",
       "3                       Kendrick Lamar         Not Like Us         3   \n",
       "4                        Billie Eilish  Birds Of A Feather         5   \n",
       "\n",
       "  peak position weeks on chart  \n",
       "0             1             19  \n",
       "1             1             15  \n",
       "2             3              1  \n",
       "3             1             16  \n",
       "4             5             14  "
      ]
     },
     "execution_count": 282,
     "metadata": {},
     "output_type": "execute_result"
    }
   ],
   "source": [
    "data = {\n",
    "    'artist' : artist_list,\n",
    "    'song' : song_list,\n",
    "    'last week' : last_week_list,\n",
    "    'peak position' : peak_position_list,\n",
    "    'weeks on chart' : weeks_on_chart_list\n",
    "}\n",
    "\n",
    "billboard_df = pd.DataFrame(data)\n",
    "billboard_df.head()"
   ]
  },
  {
   "cell_type": "markdown",
   "id": "d7c65467-b796-45e6-8cf7-d692134bbd2d",
   "metadata": {},
   "source": [
    "#### 2. After getting the code working for the current chart, navigate to last week's chart. Notice how the url for the page changes. Write a function which will, given a date, return a pandas DataFrame containing the Billboard chart data for that date."
   ]
  },
  {
   "cell_type": "code",
   "execution_count": 318,
   "id": "a8d6c33c-153d-4c70-b357-57f0501dbf89",
   "metadata": {},
   "outputs": [],
   "source": [
    "def week_chart(date):\n",
    "    response = requests.get(f'https://www.billboard.com/charts/hot-100/{date}/')\n",
    "    soup = BS(response.text)\n",
    "    \n",
    "    artist_list = []\n",
    "    for n in range(0, 100): \n",
    "        artist = soup.findAll('ul', class_='o-chart-results-list-row')[n].findAll('li', class_='o-chart-results-list__item')[3].find('span').text.strip()\n",
    "        artist_list.append(artist)\n",
    "    \n",
    "    song_list = []\n",
    "    for n in range(0, 100):\n",
    "        song = soup.findAll('ul', class_='o-chart-results-list-row')[n].findAll('li', class_='o-chart-results-list__item')[3].find('h3').text.strip()\n",
    "        song_list.append(song)\n",
    "\n",
    "    last_week_list = []\n",
    "    for n in range(0, 100):\n",
    "        last_week = soup.findAll('ul', class_='o-chart-results-list-row')[n].findAll('li', class_='o-chart-results-list__item')[6].find('span').text.strip()\n",
    "        last_week_list.append(last_week)\n",
    "\n",
    "    peak_position_list = []\n",
    "    for n in range(0, 100):\n",
    "        peak_position = soup.findAll('ul', class_='o-chart-results-list-row')[n].findAll('li', class_='o-chart-results-list__item')[7].find('span').text.strip()\n",
    "        peak_position_list.append(peak_position)\n",
    "\n",
    "    weeks_on_chart_list = []\n",
    "    for n in range(0, 100):\n",
    "        weeks_on_chart = soup.findAll('ul', class_='o-chart-results-list-row')[n].findAll('li', class_='o-chart-results-list__item')[8].find('span').text.strip()\n",
    "        weeks_on_chart_list.append(weeks_on_chart)\n",
    "    \n",
    "    data = {\n",
    "        'artist' : artist_list,\n",
    "        'song' : song_list,\n",
    "        'last week' : last_week_list,\n",
    "        'peak position' : peak_position_list,\n",
    "        'weeks on chart' : weeks_on_chart_list\n",
    "           }\n",
    "    \n",
    "    df = pd.DataFrame(data)\n",
    "    return df.head(10)"
   ]
  },
  {
   "cell_type": "code",
   "execution_count": 322,
   "id": "546702b4-072e-40df-9b83-8fb4e07fecfc",
   "metadata": {},
   "outputs": [
    {
     "data": {
      "text/html": [
       "<div>\n",
       "<style scoped>\n",
       "    .dataframe tbody tr th:only-of-type {\n",
       "        vertical-align: middle;\n",
       "    }\n",
       "\n",
       "    .dataframe tbody tr th {\n",
       "        vertical-align: top;\n",
       "    }\n",
       "\n",
       "    .dataframe thead th {\n",
       "        text-align: right;\n",
       "    }\n",
       "</style>\n",
       "<table border=\"1\" class=\"dataframe\">\n",
       "  <thead>\n",
       "    <tr style=\"text-align: right;\">\n",
       "      <th></th>\n",
       "      <th>artist</th>\n",
       "      <th>song</th>\n",
       "      <th>last week</th>\n",
       "      <th>peak position</th>\n",
       "      <th>weeks on chart</th>\n",
       "    </tr>\n",
       "  </thead>\n",
       "  <tbody>\n",
       "    <tr>\n",
       "      <th>0</th>\n",
       "      <td>Shaboozey</td>\n",
       "      <td>A Bar Song (Tipsy)</td>\n",
       "      <td>1</td>\n",
       "      <td>1</td>\n",
       "      <td>16</td>\n",
       "    </tr>\n",
       "    <tr>\n",
       "      <th>1</th>\n",
       "      <td>Post Malone Featuring Morgan Wallen</td>\n",
       "      <td>I Had Some Help</td>\n",
       "      <td>2</td>\n",
       "      <td>1</td>\n",
       "      <td>12</td>\n",
       "    </tr>\n",
       "    <tr>\n",
       "      <th>2</th>\n",
       "      <td>Kendrick Lamar</td>\n",
       "      <td>Not Like Us</td>\n",
       "      <td>3</td>\n",
       "      <td>1</td>\n",
       "      <td>13</td>\n",
       "    </tr>\n",
       "    <tr>\n",
       "      <th>3</th>\n",
       "      <td>Sabrina Carpenter</td>\n",
       "      <td>Espresso</td>\n",
       "      <td>5</td>\n",
       "      <td>3</td>\n",
       "      <td>16</td>\n",
       "    </tr>\n",
       "    <tr>\n",
       "      <th>4</th>\n",
       "      <td>Tommy Richman</td>\n",
       "      <td>Million Dollar Baby</td>\n",
       "      <td>4</td>\n",
       "      <td>2</td>\n",
       "      <td>14</td>\n",
       "    </tr>\n",
       "    <tr>\n",
       "      <th>5</th>\n",
       "      <td>Teddy Swims</td>\n",
       "      <td>Lose Control</td>\n",
       "      <td>8</td>\n",
       "      <td>1</td>\n",
       "      <td>51</td>\n",
       "    </tr>\n",
       "    <tr>\n",
       "      <th>6</th>\n",
       "      <td>Hozier</td>\n",
       "      <td>Too Sweet</td>\n",
       "      <td>6</td>\n",
       "      <td>1</td>\n",
       "      <td>19</td>\n",
       "    </tr>\n",
       "    <tr>\n",
       "      <th>7</th>\n",
       "      <td>Chappell Roan</td>\n",
       "      <td>Good Luck, Babe!</td>\n",
       "      <td>10</td>\n",
       "      <td>8</td>\n",
       "      <td>17</td>\n",
       "    </tr>\n",
       "    <tr>\n",
       "      <th>8</th>\n",
       "      <td>Sabrina Carpenter</td>\n",
       "      <td>Please Please Please</td>\n",
       "      <td>7</td>\n",
       "      <td>1</td>\n",
       "      <td>8</td>\n",
       "    </tr>\n",
       "    <tr>\n",
       "      <th>9</th>\n",
       "      <td>Billie Eilish</td>\n",
       "      <td>Birds Of A Feather</td>\n",
       "      <td>11</td>\n",
       "      <td>9</td>\n",
       "      <td>11</td>\n",
       "    </tr>\n",
       "  </tbody>\n",
       "</table>\n",
       "</div>"
      ],
      "text/plain": [
       "                                artist                  song last week  \\\n",
       "0                            Shaboozey    A Bar Song (Tipsy)         1   \n",
       "1  Post Malone Featuring Morgan Wallen       I Had Some Help         2   \n",
       "2                       Kendrick Lamar           Not Like Us         3   \n",
       "3                    Sabrina Carpenter              Espresso         5   \n",
       "4                        Tommy Richman   Million Dollar Baby         4   \n",
       "5                          Teddy Swims          Lose Control         8   \n",
       "6                               Hozier             Too Sweet         6   \n",
       "7                        Chappell Roan      Good Luck, Babe!        10   \n",
       "8                    Sabrina Carpenter  Please Please Please         7   \n",
       "9                        Billie Eilish    Birds Of A Feather        11   \n",
       "\n",
       "  peak position weeks on chart  \n",
       "0             1             16  \n",
       "1             1             12  \n",
       "2             1             13  \n",
       "3             3             16  \n",
       "4             2             14  \n",
       "5             1             51  \n",
       "6             1             19  \n",
       "7             8             17  \n",
       "8             1              8  \n",
       "9             9             11  "
      ]
     },
     "execution_count": 322,
     "metadata": {},
     "output_type": "execute_result"
    }
   ],
   "source": [
    "week_chart('2024-08-10')"
   ]
  },
  {
   "cell_type": "markdown",
   "id": "52053235-4f93-4322-b98e-f1313a913653",
   "metadata": {},
   "source": [
    "#### 3. Write a loop to retrieve the Billboard chart data for the last 10 weeks."
   ]
  },
  {
   "cell_type": "code",
   "execution_count": 340,
   "id": "a7eb4932-575a-4cdd-8872-0ba57aa7817d",
   "metadata": {},
   "outputs": [
    {
     "name": "stdout",
     "output_type": "stream",
     "text": [
      "['2024-07-06', '2024-07-13', '2024-07-20', '2024-07-27', '2024-08-03', '2024-08-10', '2024-08-17', '2024-08-24']\n"
     ]
    }
   ],
   "source": [
    "from datetime import date, timedelta\n",
    "\n",
    "dates_list = []\n",
    "start_date = date(2024, 7, 6)\n",
    "end_date = date(2024, 8, 30)\n",
    "delta = timedelta(days=7)\n",
    "while start_date <= end_date:\n",
    "    dates_list.append(start_date.strftime(\"%Y-%m-%d\"))\n",
    "    start_date += delta\n",
    "\n",
    "print(dates_list)"
   ]
  },
  {
   "cell_type": "code",
   "execution_count": 346,
   "id": "ae94e3e2-602d-41d7-8104-5cc2f910106c",
   "metadata": {},
   "outputs": [],
   "source": [
    "ten_weeks = [week_chart(date) for date in dates_list]"
   ]
  },
  {
   "cell_type": "code",
   "execution_count": 350,
   "id": "77ffb55c-7359-4cf0-adfa-b96f8bf90d21",
   "metadata": {},
   "outputs": [
    {
     "name": "stdout",
     "output_type": "stream",
     "text": [
      "[                                artist                  song last week  \\\n",
      "0  Post Malone Featuring Morgan Wallen       I Had Some Help         2   \n",
      "1                            Shaboozey    A Bar Song (Tipsy)         3   \n",
      "2                       Kendrick Lamar           Not Like Us         6   \n",
      "3                    Sabrina Carpenter              Espresso         4   \n",
      "4                    Sabrina Carpenter  Please Please Please         1   \n",
      "5                        Tommy Richman   Million Dollar Baby         5   \n",
      "6                               Hozier             Too Sweet         7   \n",
      "7                         Benson Boone      Beautiful Things         8   \n",
      "8                          Teddy Swims          Lose Control         9   \n",
      "9                        Billie Eilish    Birds Of A Feather        10   \n",
      "\n",
      "  peak position weeks on chart  \n",
      "0             1              7  \n",
      "1             2             11  \n",
      "2             1              8  \n",
      "3             3             11  \n",
      "4             1              3  \n",
      "5             2              9  \n",
      "6             1             14  \n",
      "7             2             23  \n",
      "8             1             46  \n",
      "9             9              6  ,                                 artist                  song last week  \\\n",
      "0                            Shaboozey    A Bar Song (Tipsy)         2   \n",
      "1  Post Malone Featuring Morgan Wallen       I Had Some Help         1   \n",
      "2                       Kendrick Lamar           Not Like Us         3   \n",
      "3                    Sabrina Carpenter              Espresso         4   \n",
      "4                        Tommy Richman   Million Dollar Baby         6   \n",
      "5                    Sabrina Carpenter  Please Please Please         5   \n",
      "6                               Hozier             Too Sweet         7   \n",
      "7                         Benson Boone      Beautiful Things         8   \n",
      "8                          Teddy Swims          Lose Control         9   \n",
      "9                        Chappell Roan      Good Luck, Babe!        11   \n",
      "\n",
      "  peak position weeks on chart  \n",
      "0             1             12  \n",
      "1             1              8  \n",
      "2             1              9  \n",
      "3             3             12  \n",
      "4             2             10  \n",
      "5             1              4  \n",
      "6             1             15  \n",
      "7             2             24  \n",
      "8             1             47  \n",
      "9            10             13  ,                                 artist                  song last week  \\\n",
      "0                       Kendrick Lamar           Not Like Us         3   \n",
      "1                            Shaboozey    A Bar Song (Tipsy)         1   \n",
      "2  Post Malone Featuring Morgan Wallen       I Had Some Help         2   \n",
      "3                        Tommy Richman   Million Dollar Baby         5   \n",
      "4                    Sabrina Carpenter              Espresso         4   \n",
      "5                    Sabrina Carpenter  Please Please Please         6   \n",
      "6                        Morgan Wallen        Lies Lies Lies         -   \n",
      "7                               Hozier             Too Sweet         7   \n",
      "8                         Benson Boone      Beautiful Things         8   \n",
      "9                          Teddy Swims          Lose Control         9   \n",
      "\n",
      "  peak position weeks on chart  \n",
      "0             1             10  \n",
      "1             1             13  \n",
      "2             1              9  \n",
      "3             2             11  \n",
      "4             3             13  \n",
      "5             1              5  \n",
      "6             7              1  \n",
      "7             1             16  \n",
      "8             2             25  \n",
      "9             1             48  ,                                 artist                  song last week  \\\n",
      "0                            Shaboozey    A Bar Song (Tipsy)         2   \n",
      "1  Post Malone Featuring Morgan Wallen       I Had Some Help         3   \n",
      "2                       Kendrick Lamar           Not Like Us         1   \n",
      "3                        Tommy Richman   Million Dollar Baby         4   \n",
      "4                    Sabrina Carpenter              Espresso         5   \n",
      "5                    Sabrina Carpenter  Please Please Please         6   \n",
      "6                               Hozier             Too Sweet         8   \n",
      "7                          Teddy Swims          Lose Control        10   \n",
      "8                         Benson Boone      Beautiful Things         9   \n",
      "9                               Eminem               Houdini        18   \n",
      "\n",
      "  peak position weeks on chart  \n",
      "0             1             14  \n",
      "1             1             10  \n",
      "2             1             11  \n",
      "3             2             12  \n",
      "4             3             14  \n",
      "5             1              6  \n",
      "6             1             17  \n",
      "7             1             49  \n",
      "8             2             26  \n",
      "9             2              7  ,                                 artist                  song last week  \\\n",
      "0                            Shaboozey    A Bar Song (Tipsy)         1   \n",
      "1  Post Malone Featuring Morgan Wallen       I Had Some Help         2   \n",
      "2                       Kendrick Lamar           Not Like Us         3   \n",
      "3                        Tommy Richman   Million Dollar Baby         4   \n",
      "4                    Sabrina Carpenter              Espresso         5   \n",
      "5                               Hozier             Too Sweet         7   \n",
      "6                    Sabrina Carpenter  Please Please Please         6   \n",
      "7                          Teddy Swims          Lose Control         8   \n",
      "8                         Benson Boone      Beautiful Things         9   \n",
      "9                        Chappell Roan      Good Luck, Babe!        11   \n",
      "\n",
      "  peak position weeks on chart  \n",
      "0             1             15  \n",
      "1             1             11  \n",
      "2             1             12  \n",
      "3             2             13  \n",
      "4             3             15  \n",
      "5             1             18  \n",
      "6             1              7  \n",
      "7             1             50  \n",
      "8             2             27  \n",
      "9            10             16  ,                                 artist                  song last week  \\\n",
      "0                            Shaboozey    A Bar Song (Tipsy)         1   \n",
      "1  Post Malone Featuring Morgan Wallen       I Had Some Help         2   \n",
      "2                       Kendrick Lamar           Not Like Us         3   \n",
      "3                    Sabrina Carpenter              Espresso         5   \n",
      "4                        Tommy Richman   Million Dollar Baby         4   \n",
      "5                          Teddy Swims          Lose Control         8   \n",
      "6                               Hozier             Too Sweet         6   \n",
      "7                        Chappell Roan      Good Luck, Babe!        10   \n",
      "8                    Sabrina Carpenter  Please Please Please         7   \n",
      "9                        Billie Eilish    Birds Of A Feather        11   \n",
      "\n",
      "  peak position weeks on chart  \n",
      "0             1             16  \n",
      "1             1             12  \n",
      "2             1             13  \n",
      "3             3             16  \n",
      "4             2             14  \n",
      "5             1             51  \n",
      "6             1             19  \n",
      "7             8             17  \n",
      "8             1              8  \n",
      "9             9             11  ,                                 artist                  song last week  \\\n",
      "0                            Shaboozey    A Bar Song (Tipsy)         1   \n",
      "1  Post Malone Featuring Morgan Wallen       I Had Some Help         2   \n",
      "2                       Kendrick Lamar           Not Like Us         3   \n",
      "3                    Sabrina Carpenter              Espresso         4   \n",
      "4                        Tommy Richman   Million Dollar Baby         5   \n",
      "5                        Chappell Roan      Good Luck, Babe!         8   \n",
      "6                        Billie Eilish    Birds Of A Feather        10   \n",
      "7                    Sabrina Carpenter  Please Please Please         9   \n",
      "8                          Teddy Swims          Lose Control         6   \n",
      "9                               Hozier             Too Sweet         7   \n",
      "\n",
      "  peak position weeks on chart  \n",
      "0             1             17  \n",
      "1             1             13  \n",
      "2             1             14  \n",
      "3             3             17  \n",
      "4             2             15  \n",
      "5             6             18  \n",
      "6             7             12  \n",
      "7             1              9  \n",
      "8             1             52  \n",
      "9             1             20  ,                                 artist                  song last week  \\\n",
      "0                            Shaboozey    A Bar Song (Tipsy)         1   \n",
      "1  Post Malone Featuring Morgan Wallen       I Had Some Help         2   \n",
      "2                       Kendrick Lamar           Not Like Us         3   \n",
      "3                    Sabrina Carpenter              Espresso         4   \n",
      "4                        Billie Eilish    Birds Of A Feather         7   \n",
      "5                        Tommy Richman   Million Dollar Baby         5   \n",
      "6                        Chappell Roan      Good Luck, Babe!         6   \n",
      "7                    Sabrina Carpenter  Please Please Please         8   \n",
      "8                          Teddy Swims          Lose Control         9   \n",
      "9                               Hozier             Too Sweet        10   \n",
      "\n",
      "  peak position weeks on chart  \n",
      "0             1             18  \n",
      "1             1             14  \n",
      "2             1             15  \n",
      "3             3             18  \n",
      "4             5             13  \n",
      "5             2             16  \n",
      "6             6             19  \n",
      "7             1             10  \n",
      "8             1             53  \n",
      "9             1             21  ]\n"
     ]
    }
   ],
   "source": [
    "ten_weeks"
   ]
  },
  {
   "cell_type": "code",
   "execution_count": null,
   "id": "7f4c65ff-1271-436b-85a8-4b03dd918fe4",
   "metadata": {},
   "outputs": [],
   "source": []
  }
 ],
 "metadata": {
  "kernelspec": {
   "display_name": "Python 3 (ipykernel)",
   "language": "python",
   "name": "python3"
  },
  "language_info": {
   "codemirror_mode": {
    "name": "ipython",
    "version": 3
   },
   "file_extension": ".py",
   "mimetype": "text/x-python",
   "name": "python",
   "nbconvert_exporter": "python",
   "pygments_lexer": "ipython3",
   "version": "3.12.4"
  }
 },
 "nbformat": 4,
 "nbformat_minor": 5
}
